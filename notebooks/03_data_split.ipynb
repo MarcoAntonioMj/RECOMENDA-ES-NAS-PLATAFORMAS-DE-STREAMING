{
 "cells": [
  {
   "cell_type": "code",
   "execution_count": 1,
   "metadata": {},
   "outputs": [
    {
     "name": "stdout",
     "output_type": "stream",
     "text": [
      "Tamanho do conjunto de treinamento: 1279\n",
      "Tamanho do conjunto de validação: 320\n",
      "Tamanho do conjunto de teste: 400\n"
     ]
    }
   ],
   "source": [
    "# Etapa 4: Divisão de Dados\n",
    "\n",
    "import pandas as pd\n",
    "from sklearn.model_selection import train_test_split\n",
    "\n",
    "# Carregar os dados\n",
    "data_path = '../data/processed/songs_processed.csv'\n",
    "df = pd.read_csv(data_path)\n",
    "\n",
    "# Dividir os dados em treinamento, validação e teste\n",
    "train_data, test_data = train_test_split(df, test_size=0.2, random_state=42)\n",
    "train_data, val_data = train_test_split(train_data, test_size=0.2, random_state=42)\n",
    "\n",
    "# Salvar os dados divididos\n",
    "train_data.to_csv('../data/splits/train_data.csv', index=False)\n",
    "val_data.to_csv('../data/splits/val_data.csv', index=False)\n",
    "test_data.to_csv('../data/splits/test_data.csv', index=False)\n",
    "\n",
    "# Imprimir informações sobre os conjuntos de dados\n",
    "print(\"Tamanho do conjunto de treinamento:\", len(train_data))\n",
    "print(\"Tamanho do conjunto de validação:\", len(val_data))\n",
    "print(\"Tamanho do conjunto de teste:\", len(test_data))\n"
   ]
  }
 ],
 "metadata": {
  "kernelspec": {
   "display_name": "Python 3",
   "language": "python",
   "name": "python3"
  },
  "language_info": {
   "codemirror_mode": {
    "name": "ipython",
    "version": 3
   },
   "file_extension": ".py",
   "mimetype": "text/x-python",
   "name": "python",
   "nbconvert_exporter": "python",
   "pygments_lexer": "ipython3",
   "version": "3.10.11"
  }
 },
 "nbformat": 4,
 "nbformat_minor": 2
}
