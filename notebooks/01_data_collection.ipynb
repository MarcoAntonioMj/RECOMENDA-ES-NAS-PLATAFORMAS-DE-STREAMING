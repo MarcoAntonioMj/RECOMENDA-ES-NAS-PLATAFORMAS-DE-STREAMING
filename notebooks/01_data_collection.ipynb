{
 "cells": [
  {
   "cell_type": "code",
   "execution_count": 2,
   "metadata": {},
   "outputs": [
    {
     "name": "stdout",
     "output_type": "stream",
     "text": [
      "[{'artist': 'The Chainsmokers', 'song': '#SELFIE - Original Mix', 'duration_ms': 183750, 'explicit': 'False', 'year': '2014', 'popularity': '0', 'danceability': '0.789', 'energy': '0.915', 'key': 0, 'loudness': '-3.263', 'mode': '1', 'speechiness': '0.248', 'acousticness': '0.0135', 'instrumentalness': '8.77e-06', 'liveness': '0.0818', 'valence': '0.66', 'tempo': '127.955', 'genre': 'pop, Dance/Electronic'}, {'artist': 'will.i.am', 'song': '#thatPOWER', 'duration_ms': 279506, 'explicit': 'False', 'year': '2013', 'popularity': '68', 'danceability': '0.797', 'energy': '0.608', 'key': 6, 'loudness': '-6.096', 'mode': '0', 'speechiness': '0.0584', 'acousticness': '0.00112', 'instrumentalness': '7.66e-05', 'liveness': '0.0748', 'valence': '0.402', 'tempo': '127.999', 'genre': 'hip hop, pop'}, {'artist': 'Eminem', 'song': \"'Till I Collapse\", 'duration_ms': 297786, 'explicit': 'True', 'year': '2002', 'popularity': '85', 'danceability': '0.548', 'energy': '0.847', 'key': 1, 'loudness': '-3.237', 'mode': '1', 'speechiness': '0.186', 'acousticness': '0.0622', 'instrumentalness': '0.0', 'liveness': '0.0816', 'valence': '0.1', 'tempo': '171.447', 'genre': 'hip hop'}, {'artist': 'Sean Paul', 'song': '(When You Gonna) Give It Up to Me (feat. Keyshia Cole) - Radio Version', 'duration_ms': 243880, 'explicit': 'False', 'year': '2006', 'popularity': '58', 'danceability': '0.711', 'energy': '0.761', 'key': 8, 'loudness': '-3.04', 'mode': '1', 'speechiness': '0.225', 'acousticness': '0.067', 'instrumentalness': '0.0', 'liveness': '0.041', 'valence': '0.718', 'tempo': '95.824', 'genre': 'hip hop, pop'}, {'artist': 'Taylor Swift', 'song': '...Ready For It?', 'duration_ms': 208186, 'explicit': 'False', 'year': '2017', 'popularity': '73', 'danceability': '0.613', 'energy': '0.764', 'key': 2, 'loudness': '-6.509', 'mode': '1', 'speechiness': '0.136', 'acousticness': '0.0527', 'instrumentalness': '0.0', 'liveness': '0.197', 'valence': '0.417', 'tempo': '160.015', 'genre': 'pop'}]\n"
     ]
    }
   ],
   "source": [
    "import requests\n",
    "import json\n",
    "import os\n",
    "# URL da API\n",
    "url = \"https://guilhermeonrails.github.io/api-csharp-songs/songs.json\"\n",
    "\n",
    "# Requisição à API\n",
    "response = requests.get(url)\n",
    "songs_data = response.json()\n",
    "\n",
    "# Visualizar uma amostra dos dados\n",
    "print(songs_data[:5])\n"
   ]
  },
  {
   "cell_type": "code",
   "execution_count": 3,
   "metadata": {},
   "outputs": [],
   "source": [
    "# Diretório para salvar os dados brutos\n",
    "raw_data_dir = '../data/raw/'\n",
    "os.makedirs(raw_data_dir, exist_ok=True)\n",
    "\n",
    "# Salvar os dados brutos em um arquivo JSON\n",
    "raw_data_path = os.path.join(raw_data_dir, 'songs.json')\n",
    "with open(raw_data_path, 'w') as f:\n",
    "    json.dump(songs_data, f)\n"
   ]
  }
 ],
 "metadata": {
  "kernelspec": {
   "display_name": "Python 3",
   "language": "python",
   "name": "python3"
  },
  "language_info": {
   "codemirror_mode": {
    "name": "ipython",
    "version": 3
   },
   "file_extension": ".py",
   "mimetype": "text/x-python",
   "name": "python",
   "nbconvert_exporter": "python",
   "pygments_lexer": "ipython3",
   "version": "3.10.11"
  }
 },
 "nbformat": 4,
 "nbformat_minor": 2
}
